{
 "cells": [
  {
   "cell_type": "code",
   "execution_count": 36,
   "id": "7105a9a1",
   "metadata": {},
   "outputs": [],
   "source": [
    "import pandas as pd\n",
    "from scipy.stats import ttest_ind\n",
    "import numpy as np\n",
    "import matplotlib.pyplot as plt\n",
    "import seaborn as sns"
   ]
  },
  {
   "cell_type": "code",
   "execution_count": 5,
   "id": "e54df26d",
   "metadata": {},
   "outputs": [],
   "source": [
    "df = pd.read_excel(r\"C:\\Users\\Alex\\Downloads\\retail_sales_dataset.xlsx\")"
   ]
  },
  {
   "cell_type": "code",
   "execution_count": 45,
   "id": "4807c19f",
   "metadata": {},
   "outputs": [
    {
     "data": {
      "text/plain": [
       "(1000, 10)"
      ]
     },
     "execution_count": 45,
     "metadata": {},
     "output_type": "execute_result"
    }
   ],
   "source": [
    "df.head()\n",
    "df.shape"
   ]
  },
  {
   "cell_type": "code",
   "execution_count": 7,
   "id": "713f5edc",
   "metadata": {},
   "outputs": [
    {
     "name": "stdout",
     "output_type": "stream",
     "text": [
      "Transaction ID      0\n",
      "Date                0\n",
      "Customer ID         0\n",
      "Gender              0\n",
      "Age                 0\n",
      "Product Category    0\n",
      "Quantity            0\n",
      "Price per Unit      0\n",
      "Total Amount        0\n",
      "dtype: int64\n"
     ]
    }
   ],
   "source": [
    "missing_values = df.isna().sum()\n",
    "print(missing_values)"
   ]
  },
  {
   "cell_type": "code",
   "execution_count": 13,
   "id": "e0fc0ccf",
   "metadata": {},
   "outputs": [],
   "source": [
    "#Convert the column to float\n",
    "df['Price per Unit'] = df['Price per Unit'].astype(float)"
   ]
  },
  {
   "cell_type": "code",
   "execution_count": 12,
   "id": "02db6bb1",
   "metadata": {},
   "outputs": [
    {
     "name": "stdout",
     "output_type": "stream",
     "text": [
      "Index(['Transaction ID', 'Date', 'Customer ID', 'Gender', 'Age',\n",
      "       'Product Category', 'Quantity', 'Price per Unit', 'Total Amount'],\n",
      "      dtype='object')\n"
     ]
    }
   ],
   "source": [
    "print(df.columns)"
   ]
  },
  {
   "cell_type": "code",
   "execution_count": 15,
   "id": "251925b4",
   "metadata": {},
   "outputs": [],
   "source": [
    "#Convert the column to float\n",
    "df['Total Amount'] = df['Total Amount'].astype(float)"
   ]
  },
  {
   "cell_type": "code",
   "execution_count": 16,
   "id": "d78d3bba",
   "metadata": {},
   "outputs": [
    {
     "data": {
      "text/html": [
       "<div>\n",
       "<style scoped>\n",
       "    .dataframe tbody tr th:only-of-type {\n",
       "        vertical-align: middle;\n",
       "    }\n",
       "\n",
       "    .dataframe tbody tr th {\n",
       "        vertical-align: top;\n",
       "    }\n",
       "\n",
       "    .dataframe thead th {\n",
       "        text-align: right;\n",
       "    }\n",
       "</style>\n",
       "<table border=\"1\" class=\"dataframe\">\n",
       "  <thead>\n",
       "    <tr style=\"text-align: right;\">\n",
       "      <th></th>\n",
       "      <th>Transaction ID</th>\n",
       "      <th>Date</th>\n",
       "      <th>Customer ID</th>\n",
       "      <th>Gender</th>\n",
       "      <th>Age</th>\n",
       "      <th>Product Category</th>\n",
       "      <th>Quantity</th>\n",
       "      <th>Price per Unit</th>\n",
       "      <th>Total Amount</th>\n",
       "    </tr>\n",
       "  </thead>\n",
       "  <tbody>\n",
       "    <tr>\n",
       "      <th>0</th>\n",
       "      <td>1</td>\n",
       "      <td>2023-11-24</td>\n",
       "      <td>CUST001</td>\n",
       "      <td>Male</td>\n",
       "      <td>34</td>\n",
       "      <td>Beauty</td>\n",
       "      <td>3</td>\n",
       "      <td>50.0</td>\n",
       "      <td>150.0</td>\n",
       "    </tr>\n",
       "    <tr>\n",
       "      <th>1</th>\n",
       "      <td>2</td>\n",
       "      <td>2023-02-27</td>\n",
       "      <td>CUST002</td>\n",
       "      <td>Female</td>\n",
       "      <td>26</td>\n",
       "      <td>Clothing</td>\n",
       "      <td>2</td>\n",
       "      <td>500.0</td>\n",
       "      <td>1000.0</td>\n",
       "    </tr>\n",
       "    <tr>\n",
       "      <th>2</th>\n",
       "      <td>3</td>\n",
       "      <td>2023-01-13</td>\n",
       "      <td>CUST003</td>\n",
       "      <td>Male</td>\n",
       "      <td>50</td>\n",
       "      <td>Electronics</td>\n",
       "      <td>1</td>\n",
       "      <td>30.0</td>\n",
       "      <td>30.0</td>\n",
       "    </tr>\n",
       "    <tr>\n",
       "      <th>3</th>\n",
       "      <td>4</td>\n",
       "      <td>2023-05-21</td>\n",
       "      <td>CUST004</td>\n",
       "      <td>Male</td>\n",
       "      <td>37</td>\n",
       "      <td>Clothing</td>\n",
       "      <td>1</td>\n",
       "      <td>500.0</td>\n",
       "      <td>500.0</td>\n",
       "    </tr>\n",
       "    <tr>\n",
       "      <th>4</th>\n",
       "      <td>5</td>\n",
       "      <td>2023-05-06</td>\n",
       "      <td>CUST005</td>\n",
       "      <td>Male</td>\n",
       "      <td>30</td>\n",
       "      <td>Beauty</td>\n",
       "      <td>2</td>\n",
       "      <td>50.0</td>\n",
       "      <td>100.0</td>\n",
       "    </tr>\n",
       "  </tbody>\n",
       "</table>\n",
       "</div>"
      ],
      "text/plain": [
       "   Transaction ID       Date Customer ID  Gender  Age Product Category  \\\n",
       "0               1 2023-11-24     CUST001    Male   34           Beauty   \n",
       "1               2 2023-02-27     CUST002  Female   26         Clothing   \n",
       "2               3 2023-01-13     CUST003    Male   50      Electronics   \n",
       "3               4 2023-05-21     CUST004    Male   37         Clothing   \n",
       "4               5 2023-05-06     CUST005    Male   30           Beauty   \n",
       "\n",
       "   Quantity  Price per Unit  Total Amount  \n",
       "0         3            50.0         150.0  \n",
       "1         2           500.0        1000.0  \n",
       "2         1            30.0          30.0  \n",
       "3         1           500.0         500.0  \n",
       "4         2            50.0         100.0  "
      ]
     },
     "execution_count": 16,
     "metadata": {},
     "output_type": "execute_result"
    }
   ],
   "source": [
    "df.head()"
   ]
  },
  {
   "cell_type": "code",
   "execution_count": 17,
   "id": "d94269e3",
   "metadata": {},
   "outputs": [],
   "source": [
    "TotalamountArray = df['Total Amount'].values"
   ]
  },
  {
   "cell_type": "code",
   "execution_count": 41,
   "id": "37727dc7",
   "metadata": {},
   "outputs": [
    {
     "name": "stdout",
     "output_type": "stream",
     "text": [
      "135.0\n"
     ]
    }
   ],
   "source": [
    "TotalamountMedian = np.median(TotalamountArray)\n",
    "print(TotalamountMedian)"
   ]
  },
  {
   "cell_type": "code",
   "execution_count": 20,
   "id": "de9753fc",
   "metadata": {},
   "outputs": [
    {
     "name": "stdout",
     "output_type": "stream",
     "text": [
      "559.7175627046198\n"
     ]
    }
   ],
   "source": [
    "TotalamountStdeviation = np.std(TotalamountArray)\n",
    "print(TotalamountStdeviation)"
   ]
  },
  {
   "cell_type": "code",
   "execution_count": 22,
   "id": "3282d892",
   "metadata": {},
   "outputs": [
    {
     "name": "stdout",
     "output_type": "stream",
     "text": [
      "2000.0\n"
     ]
    }
   ],
   "source": [
    "Highestamount = df['Total Amount'].max()\n",
    "print(Highestamount)"
   ]
  },
  {
   "cell_type": "code",
   "execution_count": 26,
   "id": "d7bd78eb",
   "metadata": {},
   "outputs": [
    {
     "name": "stdout",
     "output_type": "stream",
     "text": [
      "41.392\n"
     ]
    }
   ],
   "source": [
    "Avg_age = np.mean(df['Age'])\n",
    "print(Avg_age)"
   ]
  },
  {
   "cell_type": "code",
   "execution_count": 27,
   "id": "f5dda09c",
   "metadata": {},
   "outputs": [
    {
     "name": "stdout",
     "output_type": "stream",
     "text": [
      "       Transaction ID         Age     Quantity  Price per Unit  Total Amount\n",
      "count     1000.000000  1000.00000  1000.000000     1000.000000   1000.000000\n",
      "mean       500.500000    41.39200     2.514000      179.890000    456.000000\n",
      "std        288.819436    13.68143     1.132734      189.681356    559.997632\n",
      "min          1.000000    18.00000     1.000000       25.000000     25.000000\n",
      "25%        250.750000    29.00000     1.000000       30.000000     60.000000\n",
      "50%        500.500000    42.00000     3.000000       50.000000    135.000000\n",
      "75%        750.250000    53.00000     4.000000      300.000000    900.000000\n",
      "max       1000.000000    64.00000     4.000000      500.000000   2000.000000\n"
     ]
    }
   ],
   "source": [
    "numerical_df = df.select_dtypes(include=[np.number])\n",
    "descriptive_stats = numerical_df.describe()\n",
    "print(descriptive_stats)"
   ]
  },
  {
   "cell_type": "code",
   "execution_count": 28,
   "id": "76793a45",
   "metadata": {},
   "outputs": [
    {
     "name": "stdout",
     "output_type": "stream",
     "text": [
      "                Transaction ID       Age  Quantity  Price per Unit  \\\n",
      "Transaction ID        1.000000  0.065191 -0.026623       -0.060837   \n",
      "Age                   0.065191  1.000000 -0.023737       -0.038423   \n",
      "Quantity             -0.026623 -0.023737  1.000000        0.017501   \n",
      "Price per Unit       -0.060837 -0.038423  0.017501        1.000000   \n",
      "Total Amount         -0.075034 -0.060568  0.373707        0.851925   \n",
      "\n",
      "                Total Amount  \n",
      "Transaction ID     -0.075034  \n",
      "Age                -0.060568  \n",
      "Quantity            0.373707  \n",
      "Price per Unit      0.851925  \n",
      "Total Amount        1.000000  \n"
     ]
    }
   ],
   "source": [
    "correlation_matrix = numerical_df.corr()\n",
    "print(correlation_matrix)"
   ]
  },
  {
   "cell_type": "code",
   "execution_count": 58,
   "id": "8d1bf3cf",
   "metadata": {},
   "outputs": [
    {
     "data": {
      "image/png": "[encoded data removed]",
      "text/plain": [
       "<Figure size 1200x800 with 1 Axes>"
      ]
     },
     "metadata": {},
     "output_type": "display_data"
    }
   ],
   "source": [
    "\n",
    "# Assuming df is your DataFrame\n",
    "plt.figure(figsize=(12, 8))  # Set the figure size\n",
    "\n",
    "# Create a box plot using seaborn\n",
    "sns.boxplot(x='Product Category', y='Total Amount', data=df, showmeans=True)\n",
    "plt.xlabel('Product Category')\n",
    "plt.ylabel('Total Amount')\n",
    "plt.title('Box Plot: Product Category vs. Total Amount')\n",
    "\n",
    "# Set more precise y-axis ticks\n",
    "plt.yticks(range(0, int(df['Total Amount'].max()) + 1, 50))  # Adjust the range and step as needed\n",
    "\n",
    "plt.show()"
   ]
  },
  {
   "cell_type": "code",
   "execution_count": 40,
   "id": "dcc376c9",
   "metadata": {},
   "outputs": [
    {
     "data": {
      "image/png": "[encoded data removed]",
      "text/plain": [
       "<Figure size 640x480 with 1 Axes>"
      ]
     },
     "metadata": {},
     "output_type": "display_data"
    }
   ],
   "source": [
    "# Assuming df is your DataFrame\n",
    "# Create age groups\n",
    "bins = [18, 26, 46, float('inf')]\n",
    "labels = ['18-25', '26-45', '46 and over']\n",
    "\n",
    "# Add a new column to your DataFrame for age groups\n",
    "df['Age Group'] = pd.cut(df['Age'], bins=bins, labels=labels, right=False)\n",
    "\n",
    "# Calculate the mean total amount for each age group\n",
    "mean_total_amount_by_age_group = df.groupby('Age Group')['Total Amount'].mean()\n",
    "\n",
    "# Plotting the histogram\n",
    "plt.bar(mean_total_amount_by_age_group.index, mean_total_amount_by_age_group)\n",
    "plt.xlabel('Age Group')\n",
    "plt.ylabel('Mean Total Amount')\n",
    "plt.title('Mean Total Amount by Age Group')\n",
    "plt.show()"
   ]
  },
  {
   "cell_type": "code",
   "execution_count": 49,
   "id": "f9feebc7",
   "metadata": {},
   "outputs": [
    {
     "data": {
      "image/png": "[encoded data removed]",
      "text/plain": [
       "<Figure size 1000x600 with 1 Axes>"
      ]
     },
     "metadata": {},
     "output_type": "display_data"
    }
   ],
   "source": [
    "# Assuming df is your DataFrame\n",
    "plt.figure(figsize=(10, 6))  # Set the figure size\n",
    "\n",
    "# Create a scatter plot\n",
    "plt.scatter(df['Price per Unit'], df['Total Amount'])\n",
    "plt.xlabel('Price per Unit')\n",
    "plt.ylabel('Total Amount')\n",
    "plt.title('Scatter Plot: Total Amount vs. Price per Unit')\n",
    "plt.grid(True)\n",
    "plt.show()"
   ]
  },
  {
   "cell_type": "code",
   "execution_count": 47,
   "id": "6993b062",
   "metadata": {},
   "outputs": [
    {
     "name": "stdout",
     "output_type": "stream",
     "text": [
      "     Transaction ID       Date Customer ID  Gender  Age Product Category  \\\n",
      "0                 1 2023-11-24     CUST001    Male   34           Beauty   \n",
      "4                 5 2023-05-06     CUST005    Male   30           Beauty   \n",
      "9                10 2023-10-07     CUST010  Female   52         Clothing   \n",
      "10               11 2023-02-14     CUST011    Male   23         Clothing   \n",
      "21               22 2023-10-15     CUST022    Male   18         Clothing   \n",
      "..              ...        ...         ...     ...  ...              ...   \n",
      "977             978 2023-03-22     CUST978  Female   53         Clothing   \n",
      "990             991 2023-12-26     CUST991  Female   34         Clothing   \n",
      "992             993 2023-02-06     CUST993  Female   48      Electronics   \n",
      "995             996 2023-05-16     CUST996    Male   62         Clothing   \n",
      "998             999 2023-12-05     CUST999  Female   36      Electronics   \n",
      "\n",
      "     Quantity  Price per Unit  Total Amount    Age Group  \n",
      "0           3            50.0         150.0        26-45  \n",
      "4           2            50.0         100.0        26-45  \n",
      "9           4            50.0         200.0  46 and over  \n",
      "10          2            50.0         100.0        18-25  \n",
      "21          2            50.0         100.0        18-25  \n",
      "..        ...             ...           ...          ...  \n",
      "977         3            50.0         150.0  46 and over  \n",
      "990         2            50.0         100.0        26-45  \n",
      "992         3            50.0         150.0  46 and over  \n",
      "995         1            50.0          50.0  46 and over  \n",
      "998         3            50.0         150.0        26-45  \n",
      "\n",
      "[211 rows x 10 columns]\n"
     ]
    }
   ],
   "source": [
    "# Assuming df is your DataFrame\n",
    "units_50_df = df[df['Price per Unit'] == 50]\n",
    "\n",
    "# Display the DataFrame with units sold at 50\n",
    "print(units_50_df)"
   ]
  },
  {
   "cell_type": "code",
   "execution_count": 48,
   "id": "ca88e27b",
   "metadata": {},
   "outputs": [
    {
     "name": "stdout",
     "output_type": "stream",
     "text": [
      "     Transaction ID       Date Customer ID  Gender  Age Product Category  \\\n",
      "1                 2 2023-02-27     CUST002  Female   26         Clothing   \n",
      "3                 4 2023-05-21     CUST004    Male   37         Clothing   \n",
      "12               13 2023-08-05     CUST013    Male   22      Electronics   \n",
      "14               15 2023-01-16     CUST015  Female   42      Electronics   \n",
      "15               16 2023-02-17     CUST016    Male   19         Clothing   \n",
      "..              ...        ...         ...     ...  ...              ...   \n",
      "969             970 2023-05-16     CUST970    Male   59      Electronics   \n",
      "983             984 2023-08-29     CUST984    Male   56         Clothing   \n",
      "985             986 2023-01-17     CUST986  Female   49         Clothing   \n",
      "989             990 2023-05-25     CUST990  Female   58           Beauty   \n",
      "993             994 2023-12-18     CUST994  Female   51           Beauty   \n",
      "\n",
      "     Quantity  Price per Unit  Total Amount    Age Group  \n",
      "1           2           500.0        1000.0        26-45  \n",
      "3           1           500.0         500.0        26-45  \n",
      "12          3           500.0        1500.0        18-25  \n",
      "14          4           500.0        2000.0        26-45  \n",
      "15          3           500.0        1500.0        18-25  \n",
      "..        ...             ...           ...          ...  \n",
      "969         4           500.0        2000.0  46 and over  \n",
      "983         1           500.0         500.0  46 and over  \n",
      "985         2           500.0        1000.0  46 and over  \n",
      "989         2           500.0        1000.0  46 and over  \n",
      "993         2           500.0        1000.0  46 and over  \n",
      "\n",
      "[199 rows x 10 columns]\n"
     ]
    }
   ],
   "source": [
    "# Assuming df is your DataFrame\n",
    "units_500_df = df[df['Price per Unit'] == 500]\n",
    "\n",
    "# Display the DataFrame with units sold at 500\n",
    "print(units_500_df)"
   ]
  },
  {
   "cell_type": "code",
   "execution_count": 50,
   "id": "e9256dc1",
   "metadata": {},
   "outputs": [],
   "source": [
    "#hypothesis 1: \"Customers aged 18-25 have a higher average transaction value than those aged 46 and over\""
   ]
  },
  {
   "cell_type": "code",
   "execution_count": 53,
   "id": "5b92be73",
   "metadata": {},
   "outputs": [
    {
     "name": "stdout",
     "output_type": "stream",
     "text": [
      "T-statistic: 1.3871948703578278\n",
      "P-value: 0.1665006991449336\n",
      "Fail to reject the null hypothesis. There is not enough evidence to suggest a significant difference in Total Amount between customers aged 18-25 and 46 and over.\n"
     ]
    }
   ],
   "source": [
    "import scipy.stats as stats\n",
    "\n",
    "# Assuming df is your DataFrame\n",
    "age_18_25 = df[df['Age Group'] == '18-25']['Total Amount']\n",
    "age_46_over = df[df['Age Group'] == '46 and over']['Total Amount']\n",
    "\n",
    "# Perform independent two-sample t-test\n",
    "t_statistic, p_value = stats.ttest_ind(age_18_25, age_46_over, equal_var=False)\n",
    "\n",
    "# Check the p-value\n",
    "alpha = 0.05\n",
    "print(f'T-statistic: {t_statistic}\\nP-value: {p_value}')\n",
    "\n",
    "# Interpret the results\n",
    "if p_value < alpha:\n",
    "    print(\"Reject the null hypothesis. There is enough evidence to suggest that there is a significant difference in Total Amount between customers aged 18-25 and 46 and over.\")\n",
    "else:\n",
    "    print(\"Fail to reject the null hypothesis. There is not enough evidence to suggest a significant difference in Total Amount between customers aged 18-25 and 46 and over.\")"
   ]
  },
  {
   "cell_type": "code",
   "execution_count": 56,
   "id": "0afa9a97",
   "metadata": {},
   "outputs": [
    {
     "name": "stdout",
     "output_type": "stream",
     "text": [
      "T-statistic: -0.36580255531179884\n",
      "P-value: 0.35731218421165356\n",
      "Fail to reject the null hypothesis. There is not enough evidence to suggest a significant difference in mean Total Amount between Clothing and Electronics.\n"
     ]
    }
   ],
   "source": [
    "#Hypothesis 2:\"Clothing Total Amount is significantly less than Electronics\"\n",
    "\n",
    "# Assuming df is your DataFrame\n",
    "clothing_total_amount = df[df['Product Category'] == 'Clothing']['Total Amount']\n",
    "electronics_total_amount = df[df['Product Category'] == 'Electronics']['Total Amount']\n",
    "\n",
    "# Perform independent two-sample t-test (one-tailed, left direction)\n",
    "t_statistic, p_value = stats.ttest_ind(clothing_to#tal_amount, electronics_total_amount, alternative='less')\n",
    "\n",
    "# Check the p-value\n",
    "alpha = 0.05\n",
    "print(f'T-statistic: {t_statistic}\\nP-value: {p_value}')\n",
    "\n",
    "# Interpret the results\n",
    "if p_value < alpha:\n",
    "    print(\"Reject the null hypothesis. There is enough evidence to suggest that the mean Total Amount for Clothing is significantly less than for Electronics.\")\n",
    "else:\n",
    "    print(\"Fail to reject the null hypothesis. There is not enough evidence to suggest a significant difference in mean Total Amount between Clothing and Electronics.\")"
   ]
  },
  {
   "cell_type": "code",
   "execution_count": 59,
   "id": "29dbfe4f",
   "metadata": {},
   "outputs": [
    {
     "name": "stdout",
     "output_type": "stream",
     "text": [
      "The minimum Total Amount for the 'Beauty' product category is: 25.0\n"
     ]
    }
   ],
   "source": [
    "# Assuming df is your DataFrame\n",
    "min_beauty_total_amount = df[df['Product Category'] == 'Beauty']['Total Amount'].min()\n",
    "\n",
    "print(f\"The minimum Total Amount for the 'Beauty' product category is: {min_beauty_total_amount}\")"
   ]
  },
  {
   "cell_type": "code",
   "execution_count": 60,
   "id": "52365267",
   "metadata": {},
   "outputs": [
    {
     "name": "stdout",
     "output_type": "stream",
     "text": [
      "The minimum Total Amount for the 'Clothing' product category is: 25.0\n"
     ]
    }
   ],
   "source": [
    "# For Clothing\n",
    "min_clothing_total_amount = df[df['Product Category'] == 'Clothing']['Total Amount'].min()\n",
    "print(f\"The minimum Total Amount for the 'Clothing' product category is: {min_clothing_total_amount}\")"
   ]
  },
  {
   "cell_type": "code",
   "execution_count": 61,
   "id": "a783b842",
   "metadata": {},
   "outputs": [
    {
     "name": "stdout",
     "output_type": "stream",
     "text": [
      "The median Total Amount for the 'Clothing' product category is: 120.0\n"
     ]
    }
   ],
   "source": [
    "\n",
    "# Assuming df is your DataFrame\n",
    "median_clothing_total_amount = df[df['Product Category'] == 'Clothing']['Total Amount'].median()\n",
    "\n",
    "print(f\"The median Total Amount for the 'Clothing' product category is: {median_clothing_total_amount}\")"
   ]
  },
  {
   "cell_type": "code",
   "execution_count": 62,
   "id": "c96422f5",
   "metadata": {},
   "outputs": [
    {
     "name": "stdout",
     "output_type": "stream",
     "text": [
      "The median Total Amount for the 'Beauty' product category is: 120.0\n"
     ]
    }
   ],
   "source": [
    "# Assuming df is your DataFrame\n",
    "median_beauty_total_amount = df[df['Product Category'] == 'Beauty']['Total Amount'].median()\n",
    "\n",
    "print(f\"The median Total Amount for the 'Beauty' product category is: {median_beauty_total_amount}\")"
   ]
  },
  {
   "cell_type": "code",
   "execution_count": 63,
   "id": "8fcf37ee",
   "metadata": {},
   "outputs": [
    {
     "name": "stdout",
     "output_type": "stream",
     "text": [
      "The median Total Amount for the 'Electronics' product category is: 150.0\n"
     ]
    }
   ],
   "source": [
    "# Assuming df is your DataFrame\n",
    "median_electronics_total_amount = df[df['Product Category'] == 'Electronics']['Total Amount'].median()\n",
    "\n",
    "print(f\"The median Total Amount for the 'Electronics' product category is: {median_electronics_total_amount}\")"
   ]
  },
  {
   "cell_type": "code",
   "execution_count": null,
   "id": "1f287687",
   "metadata": {},
   "outputs": [],
   "source": []
  }
 ],
 "metadata": {
  "kernelspec": {
   "display_name": "Python 3 (ipykernel)",
   "language": "python",
   "name": "python3"
  },
  "language_info": {
   "codemirror_mode": {
    "name": "ipython",
    "version": 3
   },
   "file_extension": ".py",
   "mimetype": "text/x-python",
   "name": "python",
   "nbconvert_exporter": "python",
   "pygments_lexer": "ipython3",
   "version": "3.11.5"
  }
 },
 "nbformat": 4,
 "nbformat_minor": 5
}
